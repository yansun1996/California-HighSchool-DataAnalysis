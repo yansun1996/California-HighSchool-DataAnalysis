{
 "cells": [
  {
   "cell_type": "markdown",
   "metadata": {},
   "source": [
    "# External Influences on California High School Performance\n",
    "ECE 143 Spring 2018 Group Project\n",
    "Group 5: Kenny Chen, Kevin Lai, Yan Sun\n",
    "\n",
    "### Desciption of Project\n",
    "\n",
    "\n",
    "### Description of Public Datasets\n",
    "\n",
    "\n",
    "### \n",
    "\n",
    "\n",
    "\n",
    "### Python Version 3.6.5\n",
    "\n",
    "### Required Libraries\n"
   ]
  }
 ],
 "metadata": {
  "kernelspec": {
   "display_name": "Python 3",
   "language": "python",
   "name": "python3"
  },
  "language_info": {
   "codemirror_mode": {
    "name": "ipython",
    "version": 3
   },
   "file_extension": ".py",
   "mimetype": "text/x-python",
   "name": "python",
   "nbconvert_exporter": "python",
   "pygments_lexer": "ipython3",
   "version": "3.6.5"
  }
 },
 "nbformat": 4,
 "nbformat_minor": 2
}
