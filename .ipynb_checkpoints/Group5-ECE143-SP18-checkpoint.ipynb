{
 "cells": [
  {
   "cell_type": "markdown",
   "metadata": {},
   "source": [
    "# External Influences on California High School Performance\n",
    "ECE 143 Spring 2018 Group Project\n",
    "Group 5: Kenny Chen, Kevin Lai, Yan Sun\n",
    "\n",
    "### 1. Desciption of Project\n",
    "\n",
    "\n",
    "\n",
    "\n",
    "### 2. Description of Public Datasets\n",
    "##### 2.1. California SAT Scores Dataset:\n",
    "https://www.cde.ca.gov/ds/sp/ai/\n",
    "\n",
    "##### 2.2. California Crime Dataset:\n",
    "* Crime Events Data: https://openjustice.doj.ca.gov/data\n",
    "* Population Data: https://data.ca.gov/dataset/california-population-projection-county-age-gender-and-ethnicity\n",
    "\n",
    "##### 2.3. California Unemployment Rate Dataset:\n",
    "https://www.ers.usda.gov/data-products/county-level-data-sets/download-data/ \n",
    "##### 2.4. California Physical Test Dataset:\n",
    "https://www.cde.ca.gov/ta/tg/pf/pftresearch.asp\n",
    "\n"
   ]
  },
  {
   "cell_type": "markdown",
   "metadata": {},
   "source": [
    "# 3. Dependencies\n",
    "\n",
    "* python3\n",
    "* pandas == 0.22.0\n",
    "* numpy == 1.14.1\n",
    "* pickle\n",
    "* glob\n",
    "* zipfile\n",
    "* imageio == 2.1.2\n",
    "* matplotlib == 2.2.0\n",
    "* plotly == 2.7.0\n",
    "(Sign up for Plotly at https://plot.ly/)"
   ]
  },
  {
   "cell_type": "markdown",
   "metadata": {},
   "source": [
    "# 4. Preprocess"
   ]
  },
  {
   "cell_type": "markdown",
   "metadata": {},
   "source": [
    "* Download all the aforementioned datasets.\n",
    "* Put them in the same path with notebooks for preprocessing in ```./src/data_preprocess/``` then run the preprocessing notebooks.\n",
    "* Then all the dataframes contain preprocessed data could be generated and saved into pickle files.\n",
    "* These pickle files are saved in ```./data/```."
   ]
  },
  {
   "cell_type": "markdown",
   "metadata": {},
   "source": [
    "# 5. Animation"
   ]
  },
  {
   "cell_type": "markdown",
   "metadata": {},
   "source": [
    "In this part, plotly library is used for animation. Sign up for Plotly is requried at https://plot.ly/. \n",
    "\n",
    "After Signing in, go to the top right corner --- setting --- API Keys to generate an API key."
   ]
  },
  {
   "cell_type": "code",
   "execution_count": 15,
   "metadata": {},
   "outputs": [],
   "source": [
    "import pickle\n",
    "import plotly\n",
    "import plotly.plotly as py\n",
    "import plotly.figure_factory as ff\n",
    "\n",
    "import numpy as np\n",
    "import pandas as pd"
   ]
  },
  {
   "cell_type": "markdown",
   "metadata": {},
   "source": [
    "Log in here with username and api_key"
   ]
  },
  {
   "cell_type": "code",
   "execution_count": 17,
   "metadata": {
    "collapsed": true
   },
   "outputs": [],
   "source": [
    "# Use this line to login in Plotly\n",
    "plotly.tools.set_credentials_file(username='yansun1996', api_key='qkwnFoQhO3qdkWGLe2vL')\n",
    "\n",
    "# Use this line if you want to open offline mode if needed\n",
    "# plotly.offline.init_notebook_mode()"
   ]
  },
  {
   "cell_type": "markdown",
   "metadata": {},
   "source": [
    "Read Basic Map Information for Plotly"
   ]
  },
  {
   "cell_type": "code",
   "execution_count": 19,
   "metadata": {
    "collapsed": true
   },
   "outputs": [],
   "source": [
    "df_sample = pd.read_csv('https://raw.githubusercontent.com/plotly/datasets/master/minoritymajority.csv')\n",
    "df_sample_r = df_sample[df_sample['STNAME'] == 'California']\n",
    "\n",
    "# fips code is the ID for each county\n",
    "fips = df_sample_r['FIPS'].tolist()\n",
    "\n",
    "# define color scale for plotly map\n",
    "colorscale = [\n",
    "    'rgb(49,54,149)',\n",
    "    'rgb(69,117,180)',\n",
    "    'rgb(116,173,209)',\n",
    "    'rgb(171,217,233)',\n",
    "    'rgb(224,243,248)',\n",
    "    'rgb(254,224,144)',\n",
    "    'rgb(253,174,97)',\n",
    "    'rgb(244,109,67)',\n",
    "    'rgb(215,48,39)',\n",
    "    'rgb(165,0,38)'\n",
    "]"
   ]
  },
  {
   "cell_type": "markdown",
   "metadata": {},
   "source": [
    "### 5.1 Static Map for Crime Rate"
   ]
  },
  {
   "cell_type": "code",
   "execution_count": null,
   "metadata": {
    "collapsed": true
   },
   "outputs": [],
   "source": [
    "df_crime = pickle.load(open(\"./data/crime_rates.pkl\",\"rb\"))\n",
    "\n",
    "for year in range(2000,2015):\n",
    "    crime_rates = [a * 100 for a in df_crime.xs(year,axis=1).tolist()]\n",
    "\n",
    "    fig = ff.create_choropleth(\n",
    "        fips=fips, values=crime_rates, scope=['CA'],\n",
    "        binning_endpoints=[5, 9, 13, 15, 18, 21, 25, 30], \n",
    "        colorscale=colorscale,\n",
    "        round_legend_values=True,\n",
    "        county_outline={'color': 'rgb(255,255,255)', 'width': 0.5},\n",
    "        show_state_data=True,\n",
    "        legend_title='Crime Rate (Percentage)', title='California Crime Rate by Counties in '+str(year)\n",
    "    )\n",
    "    \n",
    "    # Uncomment these two lines for offline Mode\n",
    "    #filename = 'California_Crime_Rate_Map_Year_'+str(year)\n",
    "    #plotly.offline.iplot(fig,image=\"png\",filename=filename)\n",
    "    \n",
    "    # Uncomment these lines for online mode\n",
    "    filename = 'California_Crime_Rates_Map_Year_'+str(year)+'.png'\n",
    "    py.image.save_as(fig,filename)\n",
    "    # Uncomment this line to use online mode to show image in notebook\n",
    "    #py.iplot(fig, filename='choropleth_california_and_surr_states_outlines')"
   ]
  },
  {
   "cell_type": "markdown",
   "metadata": {},
   "source": [
    "### 5.2 Static Map for Unemployment Rate"
   ]
  },
  {
   "cell_type": "code",
   "execution_count": null,
   "metadata": {
    "collapsed": true
   },
   "outputs": [],
   "source": [
    "df_unemployment = pickle.load(open(\"./data/unemployment_rates.pkl\",\"rb\"))\n",
    "\n",
    "for year in range(2007,2015):\n",
    "    unemployment_rates = [a for a in df_unemployment.xs(str(year),axis=1).tolist()]\n",
    "\n",
    "    fig = ff.create_choropleth(\n",
    "        fips=fips, values=unemployment_rates, scope=['CA'],\n",
    "        binning_endpoints=[2, 3, 5, 7, 10, 13, 15, 22], \n",
    "        colorscale=colorscale,\n",
    "        round_legend_values=True,\n",
    "        county_outline={'color': 'rgb(255,255,255)', 'width': 0.5},\n",
    "        show_state_data=True,\n",
    "        legend_title='Unemployment Rate (Percentage)', title='California Unemployment Rate by Counties in '+str(year)\n",
    "    )\n",
    "\n",
    "    # Uncomment these two lines for offline Mode\n",
    "    #filename = 'California_Unemployment_Rate_Map_Year_'+str(year)\n",
    "    #plotly.offline.iplot(fig,image=\"png\",filename=filename)\n",
    "    \n",
    "    # Uncomment these lines for online mode\n",
    "    filename = 'Unemployment_Rate_Map_Year_'+str(year)+'.png'\n",
    "    py.image.save_as(fig,filename)\n",
    "    # Uncomment this line to use online mode to show image in notebook\n",
    "    #py.iplot(fig, filename='choropleth_california_and_surr_states_outlines')"
   ]
  },
  {
   "cell_type": "markdown",
   "metadata": {},
   "source": [
    "### 5.3 Static Map for Physical Test Pass Rate"
   ]
  },
  {
   "cell_type": "code",
   "execution_count": null,
   "metadata": {
    "collapsed": true
   },
   "outputs": [],
   "source": [
    "df_physical = pickle.load(open(\"./data/physical_fitness_data.pkl\",\"rb\")).transpose()\n",
    "\n",
    "for year in range(2007,2014):\n",
    "    physical_scores = [a for a in df_physical.xs(str(year),axis=1).tolist()]\n",
    "\n",
    "    fig = ff.create_choropleth(\n",
    "        fips=fips, values=physical_scores, scope=['CA'],\n",
    "        binning_endpoints=[10, 20, 25, 30, 35, 40, 43, 47], \n",
    "        colorscale=colorscale,\n",
    "        round_legend_values=True,\n",
    "        county_outline={'color': 'rgb(255,255,255)', 'width': 0.5},\n",
    "        show_state_data=True,\n",
    "        legend_title='Physical Pass Rate (%)', title='California Physical Pass Rate by Counties in '+str(year)\n",
    "    )\n",
    "    \n",
    "    # Uncomment these two lines for offline Mode\n",
    "    #filename = 'California_Physical_Test_Score_Map_Year_'+str(year)\n",
    "    #plotly.offline.iplot(fig,image=\"png\",filename=filename)\n",
    "    \n",
    "    # Uncomment these lines for online mode\n",
    "    filename = 'California_Physical_Test_Score_Map_Year_'+str(year)+'.png'\n",
    "    py.image.save_as(fig,filename)\n",
    "    # Uncomment this line to use online mode to show image in notebook\n",
    "    #py.iplot(fig, filename='choropleth_california_and_surr_states_outlines')"
   ]
  },
  {
   "cell_type": "markdown",
   "metadata": {},
   "source": [
    "### 5.4 Static Map for SAT Scores"
   ]
  },
  {
   "cell_type": "code",
   "execution_count": null,
   "metadata": {
    "collapsed": true
   },
   "outputs": [],
   "source": [
    "df_sat = pickle.load(open(\"./data/sat_data.pkl\",\"rb\"))\n",
    "\n",
    "for i in range(7,len(df_sat)):\n",
    "    sat_verbal = df_sat[i].xs(df_sat[i].columns[1],axis=1).tolist()\n",
    "    sat_math = df_sat[i].xs(df_sat[i].columns[2],axis=1).tolist()\n",
    "    total = [a+b for a,b in zip(sat_verbal,sat_math)]\n",
    "    default_none = sum(total)/len(total)\n",
    "    total.insert(1,default_none)\n",
    "    if i == 9: total.insert(45,default_none)\n",
    "\n",
    "    fig = ff.create_choropleth(\n",
    "        fips=fips, values=total, scope=['CA'],\n",
    "        binning_endpoints=[880, 910, 940, 970, 1000, 1030, 1060, 1090], \n",
    "        colorscale=colorscale,\n",
    "        round_legend_values=True,\n",
    "        county_outline={'color': 'rgb(255,255,255)', 'width': 0.5},\n",
    "        show_state_data=True,\n",
    "        legend_title='Average SAT Score for Verbal + Math',\n",
    "        title='California SAT Score by Counties in '+str(2007+i-7)\n",
    "    )\n",
    "    \n",
    "    # Uncomment these lines for offline Mode\n",
    "    #filename = 'California_SAT_Score_Map_Year_'+str(2007+i-8)\n",
    "    #plotly.offline.iplot(fig,image=\"png\",filename=filename)\n",
    "    \n",
    "    # Uncomment these two lines for online mode\n",
    "    filename = 'California_SAT_Score_Map_Year_'+str(2007+i-7)+'.png'\n",
    "    py.image.save_as(fig,filename)\n",
    "    # Uncomment this line to use online mode to show image in notebook\n",
    "    #py.iplot(fig, filename='choropleth_california_and_surr_states_outlines')"
   ]
  },
  {
   "cell_type": "markdown",
   "metadata": {},
   "source": [
    "### 5.5 Make gif"
   ]
  },
  {
   "cell_type": "code",
   "execution_count": null,
   "metadata": {
    "collapsed": true
   },
   "outputs": [],
   "source": [
    "import imageio\n",
    "\n",
    "crime_rate_img_names = [imageio.imread('California_Crime_Rates_Map_Year_'+\n",
    "                    str(year)+'.png') for year in range(2007,2014)]\n",
    "unemployment_rate_img_names = [imageio.imread('Unemployment_Rate_Map_Year_'+\n",
    "                    str(year)+'.png') for year in range(2007,2014)]\n",
    "physical_scores_img_names = [imageio.imread('California_Physical_Test_Score_Map_Year_'+\n",
    "                    str(year)+'.png') for year in range(2007,2014)]\n",
    "sat_scores_img_names = [imageio.imread('California_SAT_Score_Map_Year_'+\n",
    "                    str(year)+'.png') for year in range(2007,2014)]"
   ]
  },
  {
   "cell_type": "code",
   "execution_count": null,
   "metadata": {
    "collapsed": true
   },
   "outputs": [],
   "source": [
    "imageio.mimsave('crime_rate_animation.gif',crime_rate_img_names,duration=1)\n",
    "imageio.mimsave('unemployment_rate_animation.gif',unemployment_rate_img_names,duration=1)\n",
    "imageio.mimsave('physical_pass_rate_animation.gif',physical_scores_img_names,duration=1)\n",
    "imageio.mimsave('sat_scores_animation.gif',sat_scores_img_names,duration=1)"
   ]
  },
  {
   "cell_type": "markdown",
   "metadata": {},
   "source": [
    "# 6. Analysis"
   ]
  },
  {
   "cell_type": "markdown",
   "metadata": {},
   "source": [
    "Plot the trending over years for average data of all counties in California."
   ]
  },
  {
   "cell_type": "code",
   "execution_count": null,
   "metadata": {
    "collapsed": true
   },
   "outputs": [],
   "source": []
  },
  {
   "cell_type": "code",
   "execution_count": null,
   "metadata": {
    "collapsed": true
   },
   "outputs": [],
   "source": []
  },
  {
   "cell_type": "code",
   "execution_count": null,
   "metadata": {
    "collapsed": true
   },
   "outputs": [],
   "source": []
  },
  {
   "cell_type": "code",
   "execution_count": null,
   "metadata": {
    "collapsed": true
   },
   "outputs": [],
   "source": []
  },
  {
   "cell_type": "code",
   "execution_count": null,
   "metadata": {
    "collapsed": true
   },
   "outputs": [],
   "source": []
  },
  {
   "cell_type": "code",
   "execution_count": null,
   "metadata": {
    "collapsed": true
   },
   "outputs": [],
   "source": []
  }
 ],
 "metadata": {
  "kernelspec": {
   "display_name": "Python 3",
   "language": "python",
   "name": "python3"
  },
  "language_info": {
   "codemirror_mode": {
    "name": "ipython",
    "version": 3
   },
   "file_extension": ".py",
   "mimetype": "text/x-python",
   "name": "python",
   "nbconvert_exporter": "python",
   "pygments_lexer": "ipython3",
   "version": "3.6.3"
  }
 },
 "nbformat": 4,
 "nbformat_minor": 2
}
