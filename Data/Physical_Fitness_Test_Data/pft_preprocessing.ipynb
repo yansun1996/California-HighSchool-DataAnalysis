{
 "cells": [
  {
   "cell_type": "markdown",
   "metadata": {},
   "source": [
    "# Physical Fitness Test Data Preprocessing\n",
    "- Dataset Download (2007-2013): https://www.cde.ca.gov/ta/tg/pf/pftresearch.asp\n",
    "- Kenny Chen\n",
    "- Group 5, ECE 143 Spring 2018\n"
   ]
  },
  {
   "cell_type": "markdown",
   "metadata": {},
   "source": [
    "#### Import Libraries"
   ]
  },
  {
   "cell_type": "code",
   "execution_count": 1,
   "metadata": {},
   "outputs": [],
   "source": [
    "import numpy as np\n",
    "import pandas as pd\n",
    "from glob import glob\n",
    "from io import StringIO\n",
    "import zipfile\n",
    "import re"
   ]
  },
  {
   "cell_type": "markdown",
   "metadata": {},
   "source": [
    "#### Parse Raw Zip Files"
   ]
  },
  {
   "cell_type": "code",
   "execution_count": 2,
   "metadata": {},
   "outputs": [],
   "source": [
    "# read zip files\n",
    "data_zip = glob('./pft_data/*.zip')\n",
    "\n",
    "# extract contents of each zip file into folder with same name\n",
    "for zf in data_zip:\n",
    "  with zipfile.ZipFile(zf,'r') as z:\n",
    "    # define folder name\n",
    "    folder_name = zf[0:-4]\n",
    "    \n",
    "    # extract contents\n",
    "    z.extractall(folder_name)"
   ]
  },
  {
   "cell_type": "markdown",
   "metadata": {},
   "source": [
    "#### Parse Data Folders"
   ]
  },
  {
   "cell_type": "code",
   "execution_count": 3,
   "metadata": {},
   "outputs": [],
   "source": [
    "# get list of all folders\n",
    "data_folders = glob(\"./pft_data/*/\")\n",
    "\n",
    "# sort the folders by increasing year\n",
    "list.sort(data_folders)"
   ]
  },
  {
   "cell_type": "markdown",
   "metadata": {},
   "source": [
    "#### Parse Fitness Data into Dictionaries"
   ]
  },
  {
   "cell_type": "code",
   "execution_count": null,
   "metadata": {},
   "outputs": [
    {
     "name": "stdout",
     "output_type": "stream",
     "text": [
      "==== PARSING FITNESS DATA FROM 2007 (1 of 7) ====\n",
      "==== PARSING FITNESS DATA FROM 2008 (2 of 7) ====\n",
      "==== PARSING FITNESS DATA FROM 2009 (3 of 7) ====\n",
      "==== PARSING FITNESS DATA FROM 2010 (4 of 7) ====\n",
      "==== PARSING FITNESS DATA FROM 2011 (5 of 7) ====\n"
     ]
    }
   ],
   "source": [
    "# create dictionary to contain all data\n",
    "data = dict()\n",
    "\n",
    "for folder_num, folder in enumerate(data_folders):\n",
    "  # create dictionary of years within dictionary for each folder\n",
    "  key = folder[-3:-1]\n",
    "  data[key] = dict()\n",
    "  \n",
    "  print('==== PARSING FITNESS DATA FROM 20' + key + ' (' + str(folder_num+1) + ' of ' + str(len(data_folders)) + ') ====')\n",
    "  \n",
    "  # get list of text files in folder\n",
    "  txt_files = glob(folder+'*.txt')\n",
    "  \n",
    "  # read txt files into pandas dataframe and store\n",
    "  for filename in txt_files:\n",
    "    # get number of header columns\n",
    "    num_cols = len(list(pd.read_csv(filename, nrows=0)))\n",
    "    \n",
    "    # get deliminiter depending on year\n",
    "    if int(key) < 12:\n",
    "      dlim = '|'\n",
    "    elif int(key) >= 12:\n",
    "      dlim = '\\t'\n",
    "    \n",
    "    # change from comma-delimited to | delimited to account for extra commas in name in last column, but only for datasets before 2012\n",
    "    temp = StringIO()\n",
    "    with open(filename, 'r', encoding='cp1250') as f:\n",
    "      for line in f:\n",
    "        if int(key) < 12:\n",
    "          new_line = re.sub(r',', '|', line.rstrip(), count=num_cols-1)\n",
    "        elif int(key) >= 12:\n",
    "          new_line = line\n",
    "        print (new_line, file=temp)\n",
    "        \n",
    "    temp.seek(0)\n",
    "    temp_df = pd.read_csv(temp, sep=dlim, low_memory=False)\n",
    "    temp.seek(0)\n",
    "    \n",
    "    # parse county codes\n",
    "    if 'entities' in filename.lower():\n",
    "      # read only county code and county name columns\n",
    "      if temp_df.columns.isin(['ccode']).any():\n",
    "          df = pd.read_csv(temp, sep=dlim, usecols=['ccode','County'], low_memory=False)\n",
    "      elif temp_df.columns.isin(['Ccode']).any():\n",
    "          df = pd.read_csv(temp, sep=dlim, usecols=['Ccode','County'], low_memory=False)\n",
    "        \n",
    "      # remove duplicate rows\n",
    "      df.drop_duplicates(inplace=True)\n",
    "      \n",
    "      # store into dictionary\n",
    "      data[key]['county_codes'] = df\n",
    "    \n",
    "    # parse actual fitness data\n",
    "    if 'research' in filename.lower() or 'physfit' in filename.lower():\n",
    "      # old and new datasets have different column names\n",
    "      cols_old = ['Ccode','Gr9PctIn']\n",
    "      cols_new = ['CO','Perc9a']\n",
    "      \n",
    "      if sum(temp_df.columns.isin(cols_old)) == 2:\n",
    "        # read only county code and county name columns from county-level aggregations\n",
    "        try:\n",
    "          temp.seek(0)\n",
    "          df = pd.read_csv(temp, sep=dlim, usecols=['Level_Number','Ccode','Gr9PctIn'], low_memory=False)\n",
    "          temp.seek(0)\n",
    "          lvl = 'Level_Number'\n",
    "        except:\n",
    "          temp.seek(0)\n",
    "          df = pd.read_csv(temp, sep=dlim, usecols=['Level','Ccode','Gr9PctIn'], low_memory=False)\n",
    "          temp.seek(0)\n",
    "          lvl = 'Level'\n",
    "          \n",
    "        # replace asterisks with NaN\n",
    "        df['Gr9PctIn'].replace('*', np.nan, inplace=True)\n",
    "        df['Gr9PctIn'].replace('**', np.nan, inplace=True)\n",
    "        \n",
    "        # convert to numeric\n",
    "        df['Gr9PctIn'] = pd.to_numeric(df['Gr9PctIn'])\n",
    "        \n",
    "        # take only rows with finite values\n",
    "        df = df[np.isfinite(df['Gr9PctIn'])]\n",
    "        \n",
    "        # take only county aggregation values\n",
    "        df = df.loc[df[lvl] == 3]\n",
    "        df = df.drop([lvl], axis=1)\n",
    "        \n",
    "        # take the mean of the countys\n",
    "        df = df.groupby(['Ccode']).mean()\n",
    "        \n",
    "        # store into dictionary\n",
    "        data[key]['county_data'] = df\n",
    "      \n",
    "      elif sum(temp_df.columns.isin(cols_new)) == 2:\n",
    "        # read only county code and county name columns from county-level aggregations\n",
    "        try:\n",
    "          temp.seek(0)\n",
    "          df = pd.read_csv(temp, sep=dlim, usecols=['Level_Number','CO','Perc9a'], low_memory=False)\n",
    "          temp.seek(0)\n",
    "          lvl = 'Level_Number'\n",
    "        except:\n",
    "          temp.seek(0)\n",
    "          df = pd.read_csv(temp, sep=dlim, usecols=['Level','CO','Perc9a'], low_memory=False)\n",
    "          temp.seek(0)\n",
    "          lvl = 'Level'\n",
    "          \n",
    "        # replace asterisks with NaN\n",
    "        df['Perc9a'].replace('*', np.nan, inplace=True)\n",
    "        df['Perc9a'].replace('**', np.nan, inplace=True)\n",
    "        \n",
    "        # convert to numeric\n",
    "        df['Perc9a'] = pd.to_numeric(df['Perc9a'])\n",
    "        \n",
    "        # take only rows with finite values\n",
    "        df = df[np.isfinite(df['Perc9a'])]\n",
    "        \n",
    "        # take only county aggregation values\n",
    "        df = df.loc[df[lvl] == 3]\n",
    "        df = df.drop([lvl], axis=1)\n",
    "        \n",
    "        # take the mean of the countys\n",
    "        df = df.groupby(['CO']).mean()\n",
    "        \n",
    "        # store into dictionary\n",
    "        data[key]['county_data'] = df"
   ]
  },
  {
   "cell_type": "markdown",
   "metadata": {},
   "source": [
    "#### Parse Fitness Data into Single DataFrame"
   ]
  },
  {
   "cell_type": "code",
   "execution_count": null,
   "metadata": {},
   "outputs": [],
   "source": [
    "# extract County names for DataFrame columns\n",
    "cols = data['13']['county_codes']['County'].values.tolist()[0:58]\n",
    "\n",
    "# create index array for DataFrame rows\n",
    "idx= []\n",
    "for folder in data_folders:\n",
    "  year = '20' + folder[-3:-1]\n",
    "  idx.append(year)\n",
    "\n",
    "# initialize data matrix of extracted fitness data\n",
    "data_mat = np.zeros(shape=[len(data_folders),len(cols)])\n",
    "\n",
    "# fill in extracted fitness data\n",
    "for folder_num, folder in enumerate(data_folders):\n",
    "  # extract key\n",
    "  key = folder[-3:-1]\n",
    "  \n",
    "  # insert fitness data for relevant counties\n",
    "  for i, row in data[key]['county_data'].iterrows():\n",
    "    if int(row.name) >= 1 and int(row.name) <= 58:\n",
    "      data_mat[folder_num, i-1] = row.values\n",
    "\n",
    "# create DataFrame\n",
    "pft_df = pd.DataFrame(data_mat, index=idx, columns=cols)"
   ]
  },
  {
   "cell_type": "markdown",
   "metadata": {},
   "source": [
    "#### Save to Pickle File"
   ]
  },
  {
   "cell_type": "code",
   "execution_count": null,
   "metadata": {},
   "outputs": [],
   "source": [
    "pft_df.to_pickle('./physical_fitness_data.pkl')"
   ]
  }
 ],
 "metadata": {
  "kernelspec": {
   "display_name": "Python 3",
   "language": "python",
   "name": "python3"
  },
  "language_info": {
   "codemirror_mode": {
    "name": "ipython",
    "version": 3
   },
   "file_extension": ".py",
   "mimetype": "text/x-python",
   "name": "python",
   "nbconvert_exporter": "python",
   "pygments_lexer": "ipython3",
   "version": "3.6.5"
  }
 },
 "nbformat": 4,
 "nbformat_minor": 2
}
